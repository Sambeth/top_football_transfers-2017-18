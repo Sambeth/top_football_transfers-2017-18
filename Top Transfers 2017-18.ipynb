{
 "cells": [
  {
   "cell_type": "markdown",
   "metadata": {},
   "source": [
    "### Scrape data from [transfermarket][1] into table of columns using beautifulsoup python library\n",
    "[1]: (https://www.transfermarkt.co.uk/transfers/saisontransfers/statistik?land_id=0&ausrichtung=&spielerposition_id=&altersklasse=&leihe=&plus=1) "
   ]
  },
  {
   "cell_type": "markdown",
   "metadata": {},
   "source": [
    "### The table will have columns like illustrated below with the following data\n",
    "Index  |Player  | Role | Age | Market Value | Nationality | Moving from Team  | Moving from League | Moving to Team | Moving to League  | Transfer fee\n",
    "  ------------- | ------------- | ------------- | ------------- | ------------- | ------------- | ------------- | ------------- | ------------- | ------------- | -------------\n",
    "  Index No. | Player Name | Player Role | Player Age  | Player MV  | Player Nat.  | Old Club  | Old League  | New Club  | New League  | Fee"
   ]
  },
  {
   "cell_type": "code",
   "execution_count": 1,
   "metadata": {
    "collapsed": true
   },
   "outputs": [],
   "source": [
    "import bs4, requests, selenium, time, pandas as pd"
   ]
  },
  {
   "cell_type": "code",
   "execution_count": 2,
   "metadata": {},
   "outputs": [],
   "source": [
    "base_url = 'https://www.transfermarkt.co.uk'\n",
    "headers = {'User-Agent': 'Mozilla/5.0 (Macintosh; Intel Mac OS X 10.10; rv:39.0)'}"
   ]
  },
  {
   "cell_type": "code",
   "execution_count": 11,
   "metadata": {},
   "outputs": [
    {
     "name": "stdout",
     "output_type": "stream",
     "text": [
      "Finished\n"
     ]
    }
   ],
   "source": [
    "# create empty lists to hold the scraped data\n",
    "transfers = []\n",
    "indexes = []\n",
    "player_names = []\n",
    "player_roles = []\n",
    "ages = []\n",
    "market_values = []\n",
    "nationalities = []\n",
    "from_clubs = []\n",
    "from_leagues = []\n",
    "to_clubs = []\n",
    "to_leagues = []\n",
    "transfer_values = []\n",
    "\n",
    "for page_num in range(1, 314):\n",
    "    page_url = '/transfers/saisontransfers/statistik?ajax=yw1&altersklasse=&ausrichtung=&land_id=0&leihe=&page={}&plus=2&spielerposition_id='.format(page_num)\n",
    "    url = base_url + page_url\n",
    "    r = requests.get(url, headers=headers)\n",
    "    soup = bs4.BeautifulSoup(r.content, \"lxml\")\n",
    "\n",
    "    #\n",
    "    for row in soup.find_all('table', {'class':'items'}):\n",
    "        for tb in row.find_all('tbody'):\n",
    "            for tr in tb.find_all('tr', {'class':['odd','even']}):\n",
    "                transfers.append([td for td in tr.children])\n",
    "    #\n",
    "    try:\n",
    "        for i in range(25):\n",
    "            indexes.append(transfers[i][1].text) # index\n",
    "            for row in transfers[i][2].find_all('img'):\n",
    "                player_names.append(row['title']) #player name\n",
    "            row = None #player role\n",
    "            for row in transfers[i][2].find_all('td'):\n",
    "                pass\n",
    "            if row:\n",
    "                player_roles.append(row.text)\n",
    "            ages.append(transfers[i][3].text) # age\n",
    "            market_values.append(transfers[i][4].text) # market value\n",
    "            nationalities.append(transfers[i][5].find('img')['title']) # nationality\n",
    "            row = None #footbal club\n",
    "            for row in transfers[i][6].find_all('a', {'class':'vereinprofil_tooltip'}):\n",
    "                pass\n",
    "            if row:\n",
    "                from_clubs.append(row.text)\n",
    "            row = None # league\n",
    "            for row in transfers[i][6].find_all('a'):\n",
    "                pass\n",
    "            if row:\n",
    "                from_leagues.append(row.text)\n",
    "            row = None # to footbal club\n",
    "            for row in transfers[i][7].find_all('a', {'class':'vereinprofil_tooltip'}):\n",
    "                pass\n",
    "            if row:\n",
    "                to_clubs.append(row.text)\n",
    "            row = None # to league\n",
    "            for row in transfers[i][7].find_all('a'):\n",
    "                pass\n",
    "            if row:\n",
    "                to_leagues.append(row.text)\n",
    "            market_values.append(transfers[i][8].text) # transfer value\n",
    "    except IndexError as e:\n",
    "        pass\n",
    "print('Finished')"
   ]
  },
  {
   "cell_type": "code",
   "execution_count": null,
   "metadata": {},
   "outputs": [],
   "source": []
  },
  {
   "cell_type": "code",
   "execution_count": null,
   "metadata": {
    "collapsed": true
   },
   "outputs": [],
   "source": []
  }
 ],
 "metadata": {
  "kernelspec": {
   "display_name": "Python 3",
   "language": "python",
   "name": "python3"
  },
  "language_info": {
   "codemirror_mode": {
    "name": "ipython",
    "version": 3
   },
   "file_extension": ".py",
   "mimetype": "text/x-python",
   "name": "python",
   "nbconvert_exporter": "python",
   "pygments_lexer": "ipython3",
   "version": "3.6.1"
  }
 },
 "nbformat": 4,
 "nbformat_minor": 2
}
